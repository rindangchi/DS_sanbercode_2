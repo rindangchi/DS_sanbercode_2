{
  "nbformat": 4,
  "nbformat_minor": 0,
  "metadata": {
    "colab": {
      "name": "rindchi_hari_7.ipynb",
      "provenance": [],
      "collapsed_sections": []
    },
    "kernelspec": {
      "name": "python3",
      "display_name": "Python 3"
    }
  },
  "cells": [
    {
      "cell_type": "code",
      "metadata": {
        "colab": {
          "base_uri": "https://localhost:8080/"
        },
        "id": "LE32nuhWsdZY",
        "outputId": "f88bbbfd-b298-4348-877a-fd67f1da847d"
      },
      "source": [
        "from urllib.request import urlopen\r\n",
        "from bs4 import BeautifulSoup\r\n",
        "import pandas as pd\r\n",
        "\r\n",
        "\r\n",
        "def kompas():\r\n",
        "  alamat = \"https://www.kompas.com/\"\r\n",
        "  html = urlopen(alamat)\r\n",
        "  data = BeautifulSoup(html, 'html.parser')\r\n",
        "\r\n",
        "  title = []\r\n",
        "  items = data.findAll(\"h4\", {\"class\":\"most__title\"})\r\n",
        "  for item in items:\r\n",
        "      title.append(item.get_text())\r\n",
        "  \r\n",
        "\r\n",
        "  df = pd.DataFrame(title, columns = ['Judul Berita Populer'])\r\n",
        "  print(df)\r\n",
        "\r\n",
        "kompas()"
      ],
      "execution_count": 62,
      "outputs": [
        {
          "output_type": "stream",
          "text": [
            "                                Judul Berita Populer\n",
            "0  Video Viral Seekor Dinosaurus Turun dari Truk ...\n",
            "1  Menangis Saat Mantan Datang di Pernikahan, Pen...\n",
            "2  Batalnya Kenaikan Tunjangan Anggota DPRD DKI B...\n",
            "3  Hasil Drawing Liga Champions-Liga Europa - Tan...\n",
            "4  Video Viral \"Dinosaurus\" di Magetan, Ini Cerit...\n",
            "5  Google Jelaskan Penyebab YouTube, Gmail, dkk T...\n",
            "6  Manuver PSI Kritik APBD DKI, dari Kisruh Lem A...\n",
            "7  7 Daerah dengan Biaya Hidup Paling Rendah di I...\n",
            "8  Pengakuan Pengantin Perempuan yang Menangis Sa...\n",
            "9  Mendikbud Nadiem: Ada 3 Dosa di Sekolah yang T...\n"
          ],
          "name": "stdout"
        }
      ]
    }
  ]
}