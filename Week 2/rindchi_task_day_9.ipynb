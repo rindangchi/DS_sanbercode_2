{
  "nbformat": 4,
  "nbformat_minor": 0,
  "metadata": {
    "colab": {
      "name": "rindchi_tugas_9.ipynb",
      "provenance": [],
      "collapsed_sections": []
    },
    "kernelspec": {
      "name": "python3",
      "display_name": "Python 3"
    }
  },
  "cells": [
    {
      "cell_type": "code",
      "metadata": {
        "colab": {
          "base_uri": "https://localhost:8080/"
        },
        "id": "th1bUQ_fy3Vy",
        "outputId": "13e02050-cfe2-4ae6-9989-34c31c39d3a5"
      },
      "source": [
        "import tweepy\r\n",
        "import pandas as pd\r\n",
        "import csv\r\n",
        "\r\n",
        "#persiapan key\r\n",
        "\r\n",
        "token_data = open('data_key.csv')\r\n",
        "tokens = csv.reader(token_data, delimiter=',')\r\n",
        "\r\n",
        "data_token = [row[2] for row in tokens]\r\n",
        "consumer_key = data_token[0]\r\n",
        "consumer_secret = data_token[1]\r\n",
        "access_token = data_token[2]\r\n",
        "access_token_secret = data_token[3]\r\n",
        "\r\n",
        "#handler autentikasi\r\n",
        "auth = tweepy.OAuthHandler(consumer_key, consumer_secret)\r\n",
        "auth.set_access_token(access_token, access_token_secret)\r\n",
        "api = tweepy.API(auth)\r\n",
        "\r\n",
        "#retrive tweet kompas\r\n",
        "tweet_kompas = api.user_timeline(id = 'kompascom', count= 50, tweet_mode='extended')\r\n",
        "df_kompas = pd.DataFrame(data=[tweet.full_text for tweet in tweet_kompas], columns=['Kompascom'])\r\n",
        "#print(df_kompas)\r\n",
        "\r\n",
        "#retrive tweet pikiran_rakyat\r\n",
        "tweet_pikiranr = api.user_timeline(id = 'pikiran_rakyat', count= 50, tweet_mode='extended')\r\n",
        "df_pikiranr = pd.DataFrame(data=[tweet.full_text for tweet in tweet_pikiranr], columns=['Pikiranrakyat'])\r\n",
        "#print(df_pikiranr)\r\n",
        "\r\n",
        "#combine tweet\r\n",
        "df_all = pd.concat([df_kompas, df_pikiranr], axis = 1, sort = False)\r\n",
        "print(df_all)\r\n",
        "\r\n",
        "#save to csv\r\n",
        "df_all.to_csv('tweet_berita.csv', index = False)\r\n"
      ],
      "execution_count": 27,
      "outputs": [
        {
          "output_type": "stream",
          "text": [
            "                                            Kompascom                                      Pikiranrakyat\n",
            "0   Video pengeroyokan warga terhadap penjambret s...  Kabar Jelang Bursa Transfer Musim Dingin: Pogb...\n",
            "1   Persebaya baru saja kehilangan dua pemainnya y...  Vaksinasi Covid-19 Gratis di Indonesia Disebut...\n",
            "2   Kualifikasi putra berlangsung di Doha (Qatar) ...  Tak Hanya Covid-19, Wiku Adisasmito Minta Semu...\n",
            "3   Harapan Persib menjadi wakil Indonesia dalam a...  Tandatangani MoU dengan KPK, Menteri Kesehatan...\n",
            "4   Perkumpulan Olahraga Elektronik Indonesia (IES...  Pastikan Bawa Surat Ini Agar Bisa Bepergian Me...\n",
            "5   Untuk memberikan suasana rumah yang tenang, wa...  Ungkap Dana yang Dikeluarkan untuk Vaksin Grat...\n",
            "6   \"Jadi, akhirnya tuh aku selalu ngerasa ya aku ...  Bantuan Subsidi Bagi Pekerja Buruh Lanjut Tahu...\n",
            "7   \"Semua informasi tentu akan kami pelajari dan ...  Jadwal Liga Inggris Matchweek 14 Akhir Pekan I...\n",
            "8   Presiden Putin membantah Rusia sengaja meracun...  Jangan Abai, Air Sangat Penting pada Masa Pand...\n",
            "9   Kylie Jenner secara resmi dinobatkan sebagai s...  Sesosok Mayat Ditemukan di Dekat TPS, Gegerkan...\n",
            "10  Ayam kodok biasanya disajikan saat perayaan is...  Malaysia Lakukan Lockdown Karena Covid-19, Per...\n",
            "11  Aksi pelaku berinsial CR (28) tersebut terekam...  Kisruh Perebutan Harta Warisan dengan Teddy Bu...\n",
            "12  Kebijakan tersebut berlaku untuk seluruh mal d...  Skuad Persib U-15 Dapat Ilmu dari Shohei Matsu...\n",
            "13  Tersiar info, untuk mengaktifkan lagi kartu BP...  Perdana Lihat Adam Suseno Tanpa Kumis, Inul Da...\n",
            "14  \"IDI mengucapkan banyak terima kasih kepada Pr...  Presiden Prancis Emmanuel Macron Positif Covid...\n",
            "15  Pada tahun 2030, berdasarkan skenario awal Gra...  Kementerian Kesehatan Luncurkan Mobil Vaksin U...\n",
            "16  \"Hold up, hold up (tahan, tahan),\" kata Richar...  Pelatih Persib Begadang Demi Nonton Liverpool ...\n",
            "17  Mengaku tak jago bahasa Inggris, Baim Wong jad...  Babak Baru Kasus Pembunuhan Ibu Hamil di Bus C...\n",
            "18  TNI ikut aktif dalam menyiapkan kapasitas Sumb...  Sahrul Gunawan Terbaring Lemas di RS hingga Pa...\n",
            "19  Pemkab Wonogiri sedang menyiapkan penerapan sm...  Polisi Temukan Kotak Amal yang Diduga Danai Te...\n",
            "20  Sebanyak 200 personel Satbrimob Polda Sulawesi...  10 Mobil Listrik Toyota Bakal Meluncur di Indo...\n",
            "21  \"Hasil Pilkada Surabaya yang sudah ditetapkan ...  Polres Karawang Larang Keramaian di Malam Perg...\n",
            "22  Dua lansia ditemukan lemas di tengah kebun. Wa...  WHO Sebut Pandemi Covid-19 Masih Terjadi Sampa...\n",
            "23  Pemerintah Provinsi Jawa Tengah bakal menyiapk...  Uu Ruzhanul Ulum Minta Tensi Pilkada Tasikmala...\n",
            "24  KAI belum menerapkan persyaratan wajib menyert...  Densus 88 dan Mabes Polri Lakukan Penyelidikan...\n",
            "25  Meggy Wulandari mengaku kaget saat tahu bahwa ...  Kabar Gembira, Google Stadia Resmi Diluncurkan...\n",
            "26  Wakil Gubernur DKI Jakarta Ahmad Riza Patria m...  Beredar 37 Nama Terduga Teroris Berlatar Belak...\n",
            "27  Ole Gunnar Solskjaer menilai persaingan gelar ...  Toyota Mulai Produksi Mobil Listrik Tahun 2022...\n",
            "28  Penyakit batu ginjal dapat memengaruhi setiap ...  Berlanjut Panas di Luar Lapangan, Trent Alexan...\n",
            "29  Menurut sumber yang tidak ingin disebutkan ide...  Kritik Ridwan Kamil yang Seret Nama Mahfud MD,...\n",
            "30  Di pameran kali ini pengunjung dapat menemukan...  Jumlah Kasus Positif Covid-19 Melesat, Pemkot ...\n",
            "31  Saat ini, KAI masih menunggu arahan lebih lanj...  Polres Karawang Larang Keramain di Malam Perga...\n",
            "32  RT @kompasiana: Untuk Menyongsong Generasi Ema...  Pemkot Tasikmalaya Larang Perayaan Nataru, Pol...\n",
            "33  RT @kompasiana: Masakan Padang, Barang Mewah d...  10 Negara Bagian AS Tuduh Google Bersekongkol ...\n",
            "34  RT @kompasiana: Tetap Patuhi Protokol Kesehata...  Jelang Sheffield United vs Man Utd, Edinson Ca...\n",
            "35  Mutasi virus tak selalu berbahaya. https://t.c...  Presiden Prancis Emmanuel Macron Positif Covid...\n",
            "36  Kylie Jenner secara resmi dinobatkan sebagai s...  WHO Sebut Pandemi Covid-19 Masih Terjadi Sampa...\n",
            "37  Budaya jajanan Singapura menghadapi tantangan ...  Harga Mobil Bekas Mitsubishi Jelang Tutup Tahu...\n",
            "38  Sunmi membuat pengakuan mengejutkan. Pelantun ...  Pemain Chelsea Reece James Kemalingan saat Had...\n",
            "39  Informasi soal rapid test antigen ramai dibica...  Komentari Soal Perceraian Kiwil, Meggy Wulanda...\n",
            "40  Adrianus Meliala mengapresiasi kinerja KPU dan...  Perkara Mimpi Bertemu Nabi, PP Muhammadiyah: J...\n",
            "41  Sesuai dengan isi novel, Fajar Bustomi mengata...  Tak Punya Uang untuk Pulang, Pemuda asal Malan...\n",
            "42  Pandemi virus corona tak hanya menyebabkan kri...  Presiden Prancis Emmanuel Macron Dinyatakan Po...\n",
            "43  Potensi adanya klaster baru dari aksi 1812 mem...  Sempat Menyerah, Ini Perjuangan Istri Kim Kurn...\n",
            "44  Agus mengatakan, ekonomi halal global saat ini...  Gelar Penyelidikan Kasus Penembakan 6 Laskar F...\n",
            "45  Badan POM hanya akan mengeluarkan izin edar pe...  Pemprov DKI Jakarta Keluarkan Larangan untuk P...\n",
            "46  LRT Jakarta membuka lowongan kerja bagi lulusa...  Sempat Alami Alergi Usai Disuntik Vaksin Pfize...\n",
            "47  Kemenristek memesan 10 robot RAISA dan 35 pera...  Rapid Test Antigen Jadi Syarat Keluar Masuk Ja...\n",
            "48  LTMPT mengaku bagi calon mahasiswa yang ingin ...  Sempat Alami Alergi Usai Disuntik Vaksin Pfize...\n",
            "49  Kerja sama dengan KawanCicil ini merupakan upa...  Uu Ruzhanul Ulum Minta Intelijen Bisa Berbaur ...\n"
          ],
          "name": "stdout"
        }
      ]
    }
  ]
}
