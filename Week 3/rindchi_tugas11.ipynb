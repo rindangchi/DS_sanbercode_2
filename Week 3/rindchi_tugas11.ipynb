{
  "nbformat": 4,
  "nbformat_minor": 0,
  "metadata": {
    "colab": {
      "name": "Tugas Week  3  day 1.ipynb",
      "provenance": [],
      "collapsed_sections": []
    },
    "kernelspec": {
      "name": "python3",
      "display_name": "Python 3"
    }
  },
  "cells": [
    {
      "cell_type": "code",
      "metadata": {
        "colab": {
          "base_uri": "https://localhost:8080/"
        },
        "id": "f6mZsWwlQCoe",
        "outputId": "cb5934b0-68d4-4530-e8fe-1d37a7f32937"
      },
      "source": [
        "from urllib.request import urlopen, Request\r\n",
        "from bs4 import BeautifulSoup as bs\r\n",
        "import requests\r\n",
        "\r\n",
        "user_agent='Mozilla/5.0 (Macintosh; Intel Mac OS X 10_12_1) AppleWebKit/602.2.14 (KHTML, like Gecko) Version/10.0.1 Safari/602.2.14'\r\n",
        "headers = {'User-Agent': user_agent,'Accept':'text/html,application/xhtml+xml,application/xml;q=0.9,image/webp,*/*;q=0.8'}\r\n",
        "\r\n",
        "alamat = \"https://nasional.kompas.com/read/2020/04/04/15202701/pengamat-kebijakan-psbb-belum-tegas-tak-efektif-atasi-covid-19?page=all\"\r\n",
        "\r\n",
        "req = Request(alamat, headers=headers)\r\n",
        "html = urlopen(req)\r\n",
        "\r\n",
        "#get data from kompascom from class read__content\r\n",
        "data = bs(html, 'html.parser')\r\n",
        "box = data.find('div', {'class':'read__content'})\r\n",
        "\r\n",
        "#delete 'baca juga' paragraph\r\n",
        "hidelabel = box.findAll('strong')\r\n",
        "for delete in hidelabel:\r\n",
        "  delete.decompose()\r\n",
        "\r\n",
        "#get all paragraph from news\r\n",
        "items = box.findAll('p')\r\n",
        "hasil = [item.get_text() for item in items]\r\n",
        "\r\n",
        "print(hasil)\r\n"
      ],
      "execution_count": null,
      "outputs": [
        {
          "output_type": "stream",
          "text": [
            "[' - Presiden Institut Otonomi Daerah Djohermansyah Djohan menilai, kebijakan pembatasan sosial berskala besar (PSBB) tidak efektif dalam penanganan dan pengendalian  Covid-19.', 'Menurutnya, pemerintah terkesan tidak mau mendengarkan usulan-usulan pemerintah daerah dalam menghadapi pandemi virus corona ini.', '\"Saya kira pemerintah pusat harus mengoreksi kebijakan-kebijakannya, termasuk PSBB itu,\" kata Djohermansyah dalam diskusi \\'Daerah Menghadapi Corona\\' yang diselenggarakan Populi Center dan Smart FM Network, Sabtu (4/4/2020).', '', 'Ia menilai PSBB merupakan kebijakan \"setengah hati\" yang dilakukan pemerintah pusat untuk menangani virus corona.', 'Djohermansyah mengatakan, kebijakan PSBB sama sekali tidak memberikan ketegasan bagi masyarakat dalam menghadapi situasi saat ini.', '\"PSBB ini kan masih setengah hati. PSBB belum tegas, belum keras, dihadapkan pada kondisi masyarakat Indonesia yang tingkat kedisiplinannya masih rendah,\" ujarnya.', '', 'Djohermansyah menuturkan, presiden seharusnya memberikan keleluasaan bagi pemerintah daerah untuk menetapkan kebijakan sesuai dengan kondisi daerah masing-masing.', 'Ia mencatat sejumlah usul menarik yang datang dari pemerintah daerah. Namun, ide-ide tersebut dimentahkan Presiden.', '\"Satu, ada daerah yang memberlakukan jam malam. Itu ide bagus. Jadi jangan nggak boleh. Karena mereka lihat banyak orang kumpul-kumpul di warung kopi, ada pasar kaget malam-malam. Pejabat-pejabat di ibu kota ini mana tahu,\" kata Djohermansyah.', '\"Kedua, menyetop bus antarprovinsi. Itu juga ide bagus untuk menahan mobilitas penduduk yang bandel-bandel ini. Mau mudik, no mudik,\" imbuhnya.', '', 'Ia mengatakan saat ini pemerintah tidak bisa sekadar mengeluarkan instruksi yang bersifat imbauan.', 'Menurut Djohermansyah, pemerintah pusat harus menetapkan kebijakan yang tegas. ', 'Presiden Jokowi, kata dia, harus menjadi \"pemimpin perang\" yang memberikan dorongan bagi pemerintah daerah dalam menetapkan kebijakan tepat dan cepat.', '\"Panglima besarnya presiden. Lalu panglima wilayah provinsi gubernur. Panglima kabupaten dan kota yaitu bupati dan wali kota,\" ujarnya.', '\"Kalau kita tidak bersatu padu, strategi perang tidak jitu, arahan kebijakan pusat tidak clear dan jelas, maka ini bisa berguguran. Bukan hanya rakyat, panglima perangnya gugur,\" kata Djohermansyah.', '', 'Presiden Joko Widodo mengizinkan pemerintah daerah (pemda) untuk melakukan pembatasan sosial berskala besar (PSBB) guna mencegah penyebaran virus corona yang menyebabkan penyakit Covid-19. ', 'Hal itu tertuang dalam Peraturan Pemerintah Nomor 21 Tahun 2020 tentang PSBB yang diteken Jokowi pada Selasa (31/3/2020). ', '“Dalam Peraturan Pemerintah ini yang dimaksud dengan Pembatasan Sosial Berskala Besar adalah pembatasan kegiatan tertentu penduduk dalam suatu wilayah yang diduga terinfeksi Covid-19,” demikian bunyi Pasal 1 PP tersebut.', '', 'Selanjutnya, Jokowi mengatakan, syarat-syarat detail mengenai PSBB akan dituangkan dalam Peraturan Menteri Kesehatan (Permenkes).', '\"Tinggal nanti Menkes segera mengatur lebih rinci dalam Permen, apa kriteria daerah-daerah yang bisa diterapkan PSBB. Angka apa yang bisa diterapkan oleh daerah. Saya minta dalam waktu maksimal dua hari peraturan menteri itu bisa selesai,\" ujar Jokowi saat membuka rapat terbatas soal mudik melalui sambungan konferensi video, Kamis (2/4/2020). ', 'Jokowi pun meminta seluruh level pemerintahan mulai dari pusat, daerah, hingga desa mematuhi aturan tersebut. Jokowi kembali mengingatkan agar pemerintah daerah hingga desa satu visi dengan pemerintah pusat untuk mengatasi wabah Covid-19. ', '\"Saya mengingatkan bahwa kita telah menetapkan status kedaruratan kesehatan masyarakat dan PSBB sebagai rujukan bersama dan juga perlu saya tegaskan bahwa mulai dari presiden, menteri, gubernur, bupati, wali kota sampai kepala desa, lurah harus satu visi yang sama,\" kata dia.']\n"
          ],
          "name": "stdout"
        }
      ]
    },
    {
      "cell_type": "code",
      "metadata": {
        "colab": {
          "base_uri": "https://localhost:8080/"
        },
        "id": "o4XdV0klUzFg",
        "outputId": "8971de66-6c51-4292-fd95-1eec91571565"
      },
      "source": [
        "pip install sastrawi"
      ],
      "execution_count": null,
      "outputs": [
        {
          "output_type": "stream",
          "text": [
            "Collecting sastrawi\n",
            "\u001b[?25l  Downloading https://files.pythonhosted.org/packages/6f/4b/bab676953da3103003730b8fcdfadbdd20f333d4add10af949dd5c51e6ed/Sastrawi-1.0.1-py2.py3-none-any.whl (209kB)\n",
            "\u001b[K     |████████████████████████████████| 215kB 6.3MB/s \n",
            "\u001b[?25hInstalling collected packages: sastrawi\n",
            "Successfully installed sastrawi-1.0.1\n"
          ],
          "name": "stdout"
        }
      ]
    },
    {
      "cell_type": "code",
      "metadata": {
        "colab": {
          "base_uri": "https://localhost:8080/"
        },
        "id": "Dc77bMd2U6uK",
        "outputId": "284e1569-f244-4198-8cac-ba957756b636"
      },
      "source": [
        "import nltk\r\n",
        "nltk.download('stopwords')\r\n",
        "nltk.download('wordnet')\r\n",
        "nltk.download('punkt')\r\n",
        "nltk.download('averaged_perceptron_tagger') "
      ],
      "execution_count": null,
      "outputs": [
        {
          "output_type": "stream",
          "text": [
            "[nltk_data] Downloading package stopwords to /root/nltk_data...\n",
            "[nltk_data]   Unzipping corpora/stopwords.zip.\n",
            "[nltk_data] Downloading package wordnet to /root/nltk_data...\n",
            "[nltk_data]   Unzipping corpora/wordnet.zip.\n",
            "[nltk_data] Downloading package punkt to /root/nltk_data...\n",
            "[nltk_data]   Unzipping tokenizers/punkt.zip.\n",
            "[nltk_data] Downloading package averaged_perceptron_tagger to\n",
            "[nltk_data]     /root/nltk_data...\n",
            "[nltk_data]   Unzipping taggers/averaged_perceptron_tagger.zip.\n"
          ],
          "name": "stdout"
        },
        {
          "output_type": "execute_result",
          "data": {
            "text/plain": [
              "True"
            ]
          },
          "metadata": {
            "tags": []
          },
          "execution_count": 10
        }
      ]
    },
    {
      "cell_type": "code",
      "metadata": {
        "colab": {
          "base_uri": "https://localhost:8080/"
        },
        "id": "9MRg-xgES36D",
        "outputId": "63c1dbbc-15ce-4d46-c990-e5a81a20c232"
      },
      "source": [
        "#cleansing data\r\n",
        "import re\r\n",
        "from nltk.corpus import stopwords\r\n",
        "from nltk.tokenize import word_tokenize\r\n",
        "from Sastrawi.Stemmer.StemmerFactory import StemmerFactory\r\n",
        "\r\n",
        "#change the paragraph into lowercase and remove punctuation\r\n",
        "hasil = [item.lower() for item in hasil]\r\n",
        "hasil = [' '.join(re.sub(\"(@[A-Za-z0-9]+)|([^0-9A-Za-z \\t])|(\\w+:\\/\\/\\S+)\", \" \", item).split()) for item in hasil]\r\n",
        "\r\n",
        "#remove stopwords\r\n",
        "paragraf = ' '.join(hasil)\r\n",
        "stopwords = set(stopwords.words('indonesian'))\r\n",
        "word_tokens = word_tokenize(paragraf)\r\n",
        "paragraf_new = ' '.join([w for w in word_tokens if not w in stopwords])\r\n",
        "#print([paragraf_new])\r\n",
        "\r\n",
        "#stemming using sastrawi\r\n",
        "factory = StemmerFactory()\r\n",
        "stemmer = factory.create_stemmer()\r\n",
        "\r\n",
        "paragraf_new_stem = [stemmer.stem(paragraf_new)]\r\n",
        "print(paragraf_new_stem)\r\n"
      ],
      "execution_count": null,
      "outputs": [
        {
          "output_type": "stream",
          "text": [
            "['presiden institut otonomi daerah djohermansyah djohan nilai bijak batas sosial skala psbb efektif tangan kendali covid 19 turut perintah kes dengar usul usul perintah daerah hadap pandemi virus corona perintah pusat koreksi bijak bijak psbb djohermansyah diskusi daerah hadap corona selenggara populi center smart fm network sabtu 4 4 2020 nilai psbb bijak hati perintah pusat tangan virus corona djohermansyah bijak psbb tegas masyarakat hadap situasi psbb hati psbb keras hadap kondisi masyarakat indonesia tingkat disiplin rendah djohermansyah presiden leluasa perintah daerah tetap bijak sesuai kondisi daerah catat usul tarik perintah daerah ide ide mentah presiden daerah laku jam malam ide bagus nggak lihat orang kumpul kumpul warung kopi pasar kaget malam malam jabat jabat kota djohermansyah setop bus antarprovinsi ide bagus tahan mobilitas duduk bandel bandel mudik no mudik imbuh perintah keluar instruksi sifat imbau djohermansyah perintah pusat tetap bijak presiden jokowi pimpin perang dorong perintah daerah tetap bijak cepat panglima besar presiden panglima wilayah provinsi gubernur panglima kabupaten kota bupati wali kota satu padu strategi perang jitu arah bijak pusat clear gugur rakyat panglima perang gugur djohermansyah presiden joko widodo izin perintah daerah pemda batas sosial skala psbb cegah sebar virus corona sebab sakit covid 19 tuang atur perintah nomor 21 2020 psbb teken jokowi selasa 31 3 2020 atur perintah batas sosial skala batas giat duduk wilayah duga infeksi covid 19 bunyi pasal 1 pp jokowi syarat syarat detail psbb tuang atur menteri sehat permenkes tinggal menkes atur rinci permen kriteria daerah daerah terap psbb angka terap daerah maksimal atur menteri selesai jokowi buka rapat batas mudik sambung konferensi video kamis 2 4 2020 jokowi level perintah pusat daerah desa patuh atur jokowi perintah daerah desa visi perintah pusat atas wabah covid 19 tetap status darurat sehat masyarakat psbb rujuk tegas presiden menteri gubernur bupati wali kota kepala desa lurah visi']\n"
          ],
          "name": "stdout"
        }
      ]
    },
    {
      "cell_type": "code",
      "metadata": {
        "id": "Nm38PPh1WZE_"
      },
      "source": [
        "#change list to dataframe and save into csv file\r\n",
        "import pandas as pd\r\n",
        "\r\n",
        "df_paragraf_stem = pd.DataFrame(paragraf_new_stem, columns= ['Berita yang telah dibersihkan'])\r\n",
        "df_paragraf_stem['Topik'] = ['Sentimen Masyarakat terhadap Kebijakan PSBB']\r\n",
        "df_paragraf_stem['Link Berita'] = ['https://nasional.kompas.com/read/2020/04/04/15202701/pengamat-kebijakan-psbb-belum-tegas-tak-efektif-atasi-covid-19?page=all']\r\n",
        "\r\n",
        "df_paragraf_stem = df_paragraf_stem[['Topik', 'Link Berita', 'Berita yang telah dibersihkan']]\r\n",
        "\r\n",
        "df_paragraf_stem.to_csv('rindchi_tugas11.csv', index=False)"
      ],
      "execution_count": null,
      "outputs": []
    }
  ]
}