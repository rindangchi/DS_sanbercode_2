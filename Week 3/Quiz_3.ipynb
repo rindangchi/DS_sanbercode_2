{
  "nbformat": 4,
  "nbformat_minor": 0,
  "metadata": {
    "colab": {
      "name": "Quiz 3.ipynb",
      "provenance": [],
      "collapsed_sections": []
    },
    "kernelspec": {
      "name": "python3",
      "display_name": "Python 3"
    }
  },
  "cells": [
    {
      "cell_type": "code",
      "metadata": {
        "colab": {
          "base_uri": "https://localhost:8080/"
        },
        "id": "bfgA-87mtK22",
        "outputId": "27294789-29be-4fee-c3a5-1b15e791c5a7"
      },
      "source": [
        "import tweepy\r\n",
        "import pandas as pd\r\n",
        "import csv\r\n",
        "from tweepy import Stream\r\n",
        "\r\n",
        "#persiapan key\r\n",
        "\r\n",
        "token_data = open('data_key.csv')\r\n",
        "tokens = csv.reader(token_data, delimiter=',')\r\n",
        "\r\n",
        "data_token = [row[2] for row in tokens]\r\n",
        "consumer_key = data_token[0]\r\n",
        "consumer_secret = data_token[1]\r\n",
        "access_token = data_token[2]\r\n",
        "access_token_secret = data_token[3]\r\n",
        "\r\n",
        "#handler autentikasi\r\n",
        "auth = tweepy.OAuthHandler(consumer_key, consumer_secret)\r\n",
        "auth.set_access_token(access_token, access_token_secret)\r\n",
        "api = tweepy.API(auth, wait_on_rate_limit=True)\r\n",
        "\r\n",
        "\r\n",
        "#get tweet data\r\n",
        "numberoftweets = 100\r\n",
        "\r\n",
        "tweet_list = tweepy.Cursor(api.search, q= 'Vaksin OR vaksin OR #VAKSIN OR #vaksin OR \"VAKSIN\" OR \"#Vaksin\" -filter:retweets', lang= 'id', since='2020-12-24', until ='2020-12-25', tweet_mode='extended').items(numberoftweets)\r\n",
        "tweet_data = [[tweet.id, tweet.full_text] for tweet in tweet_list]\r\n",
        "tweet_data\r\n",
        "#save tweet data to dataframe\r\n",
        "tweet_df = pd.DataFrame(data=tweet_data, columns=['tweetid', \"tweet\"])\r\n",
        "tweet_df\r\n",
        "\r\n",
        "\r\n",
        "#add data to tweet db\r\n",
        "#sql connection\r\n",
        "import sqlite3\r\n",
        "\r\n",
        "connection = sqlite3.connect('/content/rindchi_kuis3_trial.db')\r\n",
        "cursor = connection.cursor()\r\n",
        "print(\"Database created and Successfully Connected to SQLite\")\r\n",
        "cursor.close()\r\n",
        "\r\n",
        "#engine = create_engine('sqlite:///rindchi@gmail.com_tugas3.db', echo=False)\r\n",
        "\r\n",
        "tweet_df.to_sql('data_tweet' , if_exists = 'append', con=connection, index=False)\r\n"
      ],
      "execution_count": null,
      "outputs": [
        {
          "output_type": "stream",
          "text": [
            "Database created and Successfully Connected to SQLite\n"
          ],
          "name": "stdout"
        }
      ]
    },
    {
      "cell_type": "code",
      "metadata": {
        "id": "PQn3OXdauKFx"
      },
      "source": [
        "#add data to sql \r\n",
        "\r\n",
        "\r\n",
        "from sqlalchemy import create_engine\r\n",
        "engine = create_engine('sqlite:///basisdata_rindchi.db', echo=False)\r\n",
        "\r\n",
        "tweet_df.to_sql('tweetid' , con=engine)"
      ],
      "execution_count": null,
      "outputs": []
    },
    {
      "cell_type": "code",
      "metadata": {
        "colab": {
          "base_uri": "https://localhost:8080/"
        },
        "id": "Zv6gi9HcwCq8",
        "outputId": "65c47147-e17b-48e0-c6c4-696cb144ee68"
      },
      "source": [
        "import tweepy\r\n",
        "import pandas as pd\r\n",
        "import csv\r\n",
        "from tweepy import Stream\r\n",
        "import sqlite3\r\n",
        "#persiapan key\r\n",
        "\r\n",
        "token_data = open('data_key.csv')\r\n",
        "tokens = csv.reader(token_data, delimiter=',')\r\n",
        "\r\n",
        "data_token = [row[2] for row in tokens]\r\n",
        "consumer_key = data_token[0]\r\n",
        "consumer_secret = data_token[1]\r\n",
        "access_token = data_token[2]\r\n",
        "access_token_secret = data_token[3]\r\n",
        "\r\n",
        "#handler autentikasi\r\n",
        "auth = tweepy.OAuthHandler(consumer_key, consumer_secret)\r\n",
        "auth.set_access_token(access_token, access_token_secret)\r\n",
        "api = tweepy.API(auth, wait_on_rate_limit=True)\r\n",
        "\r\n",
        "#get tweet data\r\n",
        "class twitter :\r\n",
        "\r\n",
        "  def __init__(self, tweet_data):\r\n",
        "    self.tweet_data = tweet_data\r\n",
        "\r\n",
        "  def get_twitter_data(self):\r\n",
        "\r\n",
        "    #retrive tweet data from twitter\r\n",
        "    numberoftweets = 100\r\n",
        "    tweet_list = tweepy.Cursor(api.search, q= 'Vaksin OR vaksin OR #VAKSIN OR #vaksin OR \"VAKSIN\" OR \"#Vaksin\" -filter:retweets', lang= 'id', tweet_mode='extended').items(numberoftweets)\r\n",
        "    tweet_data = [[tweet.id, tweet.full_text] for tweet in tweet_list]\r\n",
        "\r\n",
        "    #save tweet data into dataframe\r\n",
        "    tweet_df = pd.DataFrame(data=tweet_data, columns=['tweetid', \"tweet\"])\r\n",
        "    tweet_df\r\n",
        "    \r\n",
        "\r\n",
        "  def save_to_db(self) :\r\n",
        "    #create connection\r\n",
        "    connection = sqlite3.connect('/content/rindchi_kuis3.db')\r\n",
        "    cursor = connection.cursor()\r\n",
        "    print(\"Database created and Successfully Connected to SQLite\")\r\n",
        "    cursor.close()\r\n",
        "    #save tweet to sql db\r\n",
        "    tweet_df.to_sql('data_tweet' , if_exists = 'append', con=connection, index=False)\r\n",
        "\r\n",
        "tweet_data = 'tweet_df'\r\n",
        "data = twitter(tweet_data)\r\n",
        "data.save_to_db()\r\n"
      ],
      "execution_count": null,
      "outputs": [
        {
          "output_type": "stream",
          "text": [
            "Database created and Successfully Connected to SQLite\n"
          ],
          "name": "stdout"
        }
      ]
    }
  ]
}